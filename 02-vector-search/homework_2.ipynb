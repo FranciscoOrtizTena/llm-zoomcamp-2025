{
 "cells": [
  {
   "cell_type": "markdown",
   "id": "907b05df-9f62-45c5-89d3-9e3490447137",
   "metadata": {},
   "source": [
    "## Homework: Vector Search\n",
    "\n",
    "In this homework, we will learn more about vector search\n",
    "and embedding. Like in the module, we will use Qdrant and\n",
    "fastembed\n",
    "\n",
    "> It's possible that your answers won't match exactly. If it's the case, select the closest one.\n",
    "\n",
    "Note: if you want to learn how vector search works under\n",
    "the hood, check \n",
    "[homework 3 from 2024 cohort (questions 1-4)](../../2024/03-vector-search/homework.md)\n",
    "\n",
    "## Embeddings\n",
    "\n",
    "Qdrant uses [fastembed](https://github.com/qdrant/fastembed)\n",
    "under the hood to turn text into vectors. \n",
    "\n",
    "We will now explore this library\n",
    "\n",
    "Make sure it's installed:\n",
    "\n",
    "```bash\n",
    "pip install fastembed\n",
    "```\n",
    "\n",
    "Import it: \n",
    "\n",
    "```python\n",
    "from fastembed import TextEmbedding\n",
    "```\n"
   ]
  },
  {
   "cell_type": "code",
   "execution_count": 1,
   "id": "aec15666-6725-40d7-8a27-f148fa35987e",
   "metadata": {},
   "outputs": [],
   "source": [
    "from fastembed import TextEmbedding"
   ]
  },
  {
   "cell_type": "markdown",
   "id": "fb306793-b252-473b-9cb7-cd7993bf5a36",
   "metadata": {},
   "source": [
    "## Q1. Embedding the query\n",
    "\n",
    "Embed the query: `'I just discovered the course. Can I join now?'`."
   ]
  },
  {
   "cell_type": "code",
   "execution_count": 2,
   "id": "b40efa8e-8d64-4a87-bdab-3c91aee5f49a",
   "metadata": {},
   "outputs": [],
   "source": [
    "query = [\"I just discovered the course. Can I join now?\"]"
   ]
  },
  {
   "cell_type": "markdown",
   "id": "9bf567f7-1153-4b2f-883e-871c5734b258",
   "metadata": {},
   "source": [
    "Use the `'jinaai/jina-embeddings-v2-small-en'` model. "
   ]
  },
  {
   "cell_type": "code",
   "execution_count": 3,
   "id": "d331633f-1d28-48b4-b619-c9050d81f154",
   "metadata": {},
   "outputs": [],
   "source": [
    "model = TextEmbedding(model_name=\"jinaai/jina-embeddings-v2-small-en\")\n",
    "embedding = list(model.embed(query))[0]"
   ]
  },
  {
   "cell_type": "markdown",
   "id": "3400e1d3-046e-4dad-9024-cf43617daa91",
   "metadata": {},
   "source": [
    "You should get a numpy array of size 512."
   ]
  },
  {
   "cell_type": "code",
   "execution_count": 4,
   "id": "936560d7-452e-4358-9c0d-ae62603baa47",
   "metadata": {},
   "outputs": [
    {
     "name": "stdout",
     "output_type": "stream",
     "text": [
      "Embedding shape: 512\n"
     ]
    }
   ],
   "source": [
    "print(f\"Embedding shape: {len(embedding)}\")"
   ]
  },
  {
   "cell_type": "markdown",
   "id": "802517c0-c1fe-4d9b-be83-8a0fa3644c0c",
   "metadata": {},
   "source": [
    "What's the minimal value in this array?"
   ]
  },
  {
   "cell_type": "code",
   "execution_count": 5,
   "id": "e269d449-ac9a-4e02-84a3-4580030b7ffd",
   "metadata": {},
   "outputs": [
    {
     "name": "stdout",
     "output_type": "stream",
     "text": [
      "Minimum value in the embedding: -0.117\n"
     ]
    }
   ],
   "source": [
    "min_val = min(embedding)\n",
    "print(f\"Minimum value in the embedding: {round(min_val, 3)}\")"
   ]
  },
  {
   "cell_type": "markdown",
   "id": "7cad1985-c43c-4643-947e-1b5fd51719d2",
   "metadata": {},
   "source": [
    "* -0.51\n",
    "* `-0.11`\n",
    "* 0\n",
    "* 0.51"
   ]
  },
  {
   "cell_type": "markdown",
   "id": "0d308d50-3eb1-4998-b663-1d210fbca215",
   "metadata": {},
   "source": [
    "## Cosine similarity\n",
    "\n",
    "The vectors that our embedding model returns are already normalized: their length is 1.0.\n",
    "\n",
    "You can check that by using the `norm` function:\n",
    "\n",
    "```python\n",
    "import numpy as np\n",
    "np.linalg.norm(q)\n",
    "```"
   ]
  },
  {
   "cell_type": "code",
   "execution_count": 6,
   "id": "d50b9896-7682-46cc-bd85-26c81d79babd",
   "metadata": {},
   "outputs": [
    {
     "data": {
      "text/plain": [
       "np.float64(1.0)"
      ]
     },
     "execution_count": 6,
     "metadata": {},
     "output_type": "execute_result"
    }
   ],
   "source": [
    "import numpy as np\n",
    "np.linalg.norm(embedding)"
   ]
  },
  {
   "cell_type": "markdown",
   "id": "f6f357f1-7c1c-497b-8ee7-c08ab860b5d0",
   "metadata": {},
   "source": [
    "Which means that we can simply compute the dot product between\n",
    "two vectors to learn the cosine similarity between them.\n",
    "\n",
    "For example, if you compute the cosine of the query vector with itself, the result will be 1.0:\n",
    "\n",
    "```python\n",
    "q.dot(q)"
   ]
  },
  {
   "cell_type": "code",
   "execution_count": 7,
   "id": "1eaccc2f-d3ac-436b-be2a-3db4da391311",
   "metadata": {},
   "outputs": [
    {
     "data": {
      "text/plain": [
       "np.float64(1.0000000000000002)"
      ]
     },
     "execution_count": 7,
     "metadata": {},
     "output_type": "execute_result"
    }
   ],
   "source": [
    "embedding.dot(embedding)"
   ]
  },
  {
   "cell_type": "markdown",
   "id": "0ab113a0-1050-4c75-95cf-1e4fbacb48fe",
   "metadata": {},
   "source": [
    "## Q2. Cosine similarity with another vector\n",
    "\n",
    "Now let's embed this document:\n",
    "\n",
    "```python\n",
    "doc = 'Can I still join the course after the start date?'\n",
    "```"
   ]
  },
  {
   "cell_type": "code",
   "execution_count": 8,
   "id": "32b3b267-a804-46d0-b67f-becf5523c024",
   "metadata": {},
   "outputs": [],
   "source": [
    "q2 = 'Can I still join the course after the start date?'\n",
    "embedding_q2 = list(model.embed(q2))[0]"
   ]
  },
  {
   "cell_type": "markdown",
   "id": "19de63dc-4956-495f-83ee-f95891e0d1d4",
   "metadata": {},
   "source": [
    "What's the cosine similarity between the vector for the query\n",
    "and the vector for the document?"
   ]
  },
  {
   "cell_type": "code",
   "execution_count": 9,
   "id": "b7384ebb-cab5-4d32-a016-f580fde4aa4e",
   "metadata": {},
   "outputs": [
    {
     "name": "stdout",
     "output_type": "stream",
     "text": [
      "The cosine similarity is: 0.9\n"
     ]
    }
   ],
   "source": [
    "cosine_similarity = embedding.dot(embedding_q2)\n",
    "print(f\"The cosine similarity is: {round(cosine_similarity, 2)}\")"
   ]
  },
  {
   "cell_type": "markdown",
   "id": "689dbf9a-2661-4204-b5b1-6841d96e2027",
   "metadata": {},
   "source": [
    "* 0.3\n",
    "* 0.5\n",
    "* 0.7\n",
    "* `0.9`"
   ]
  },
  {
   "cell_type": "markdown",
   "id": "aa642593-383d-4590-9413-f13fed03c9d4",
   "metadata": {},
   "source": [
    "## Q3. Ranking by cosine\n",
    "\n",
    "For Q3 and Q4 we will use these documents:\n",
    "\n",
    "```python\n",
    "documents = [{'text': \"Yes, even if you don't register, you're still eligible to submit the homeworks.\\nBe aware, however, that there will be deadlines for turning in the final projects. So don't leave everything for the last minute.\",\n",
    "  'section': 'General course-related questions',\n",
    "  'question': 'Course - Can I still join the course after the start date?',\n",
    "  'course': 'data-engineering-zoomcamp'},\n",
    " {'text': 'Yes, we will keep all the materials after the course finishes, so you can follow the course at your own pace after it finishes.\\nYou can also continue looking at the homeworks and continue preparing for the next cohort. I guess you can also start working on your final capstone project.',\n",
    "  'section': 'General course-related questions',\n",
    "  'question': 'Course - Can I follow the course after it finishes?',\n",
    "  'course': 'data-engineering-zoomcamp'},\n",
    " {'text': \"The purpose of this document is to capture frequently asked technical questions\\nThe exact day and hour of the course will be 15th Jan 2024 at 17h00. The course will start with the first  “Office Hours'' live.1\\nSubscribe to course public Google Calendar (it works from Desktop only).\\nRegister before the course starts using this link.\\nJoin the course Telegram channel with announcements.\\nDon’t forget to register in DataTalks.Club's Slack and join the channel.\",\n",
    "  'section': 'General course-related questions',\n",
    "  'question': 'Course - When will the course start?',\n",
    "  'course': 'data-engineering-zoomcamp'},\n",
    " {'text': 'You can start by installing and setting up all the dependencies and requirements:\\nGoogle cloud account\\nGoogle Cloud SDK\\nPython 3 (installed with Anaconda)\\nTerraform\\nGit\\nLook over the prerequisites and syllabus to see if you are comfortable with these subjects.',\n",
    "  'section': 'General course-related questions',\n",
    "  'question': 'Course - What can I do before the course starts?',\n",
    "  'course': 'data-engineering-zoomcamp'},\n",
    " {'text': 'Star the repo! Share it with friends if you find it useful ❣️\\nCreate a PR if you see you can improve the text or the structure of the repository.',\n",
    "  'section': 'General course-related questions',\n",
    "  'question': 'How can we contribute to the course?',\n",
    "  'course': 'data-engineering-zoomcamp'}]\n",
    "```"
   ]
  },
  {
   "cell_type": "code",
   "execution_count": 10,
   "id": "7b500057-aafc-4424-9b18-aab3436dd131",
   "metadata": {},
   "outputs": [],
   "source": [
    "documents = [{'text': \"Yes, even if you don't register, you're still eligible to submit the homeworks.\\nBe aware, however, that there will be deadlines for turning in the final projects. So don't leave everything for the last minute.\",\n",
    "  'section': 'General course-related questions',\n",
    "  'question': 'Course - Can I still join the course after the start date?',\n",
    "  'course': 'data-engineering-zoomcamp'},\n",
    " {'text': 'Yes, we will keep all the materials after the course finishes, so you can follow the course at your own pace after it finishes.\\nYou can also continue looking at the homeworks and continue preparing for the next cohort. I guess you can also start working on your final capstone project.',\n",
    "  'section': 'General course-related questions',\n",
    "  'question': 'Course - Can I follow the course after it finishes?',\n",
    "  'course': 'data-engineering-zoomcamp'},\n",
    " {'text': \"The purpose of this document is to capture frequently asked technical questions\\nThe exact day and hour of the course will be 15th Jan 2024 at 17h00. The course will start with the first  “Office Hours'' live.1\\nSubscribe to course public Google Calendar (it works from Desktop only).\\nRegister before the course starts using this link.\\nJoin the course Telegram channel with announcements.\\nDon’t forget to register in DataTalks.Club's Slack and join the channel.\",\n",
    "  'section': 'General course-related questions',\n",
    "  'question': 'Course - When will the course start?',\n",
    "  'course': 'data-engineering-zoomcamp'},\n",
    " {'text': 'You can start by installing and setting up all the dependencies and requirements:\\nGoogle cloud account\\nGoogle Cloud SDK\\nPython 3 (installed with Anaconda)\\nTerraform\\nGit\\nLook over the prerequisites and syllabus to see if you are comfortable with these subjects.',\n",
    "  'section': 'General course-related questions',\n",
    "  'question': 'Course - What can I do before the course starts?',\n",
    "  'course': 'data-engineering-zoomcamp'},\n",
    " {'text': 'Star the repo! Share it with friends if you find it useful ❣️\\nCreate a PR if you see you can improve the text or the structure of the repository.',\n",
    "  'section': 'General course-related questions',\n",
    "  'question': 'How can we contribute to the course?',\n",
    "  'course': 'data-engineering-zoomcamp'}]"
   ]
  },
  {
   "cell_type": "markdown",
   "id": "124ce0a8-0937-42d8-a631-5605d5362ceb",
   "metadata": {},
   "source": [
    "Compute the embeddings for the text field, and compute the \n",
    "cosine between the query vector and all the documents."
   ]
  },
  {
   "cell_type": "code",
   "execution_count": 11,
   "id": "b2d87e9c-71b0-4f66-a536-dc5c74b494e5",
   "metadata": {},
   "outputs": [],
   "source": [
    "texts = [doc[\"text\"] for doc in documents]\n",
    "doc_embeddings = list(model.embed(texts))\n",
    "doc_embeddings = np.array(doc_embeddings)\n",
    "cos_similarities = np.array(doc_embeddings).dot(embedding)"
   ]
  },
  {
   "cell_type": "code",
   "execution_count": 12,
   "id": "f08d30c3-1249-4404-af6a-fdfff7d91654",
   "metadata": {},
   "outputs": [],
   "source": [
    "most_similar_index = np.argmax(cos_similarities)"
   ]
  },
  {
   "cell_type": "markdown",
   "id": "5592d2b4-9ca5-4f23-bc1b-6741efbc660a",
   "metadata": {},
   "source": [
    "What's the document index with the highest similarity? (Indexing starts from 0):"
   ]
  },
  {
   "cell_type": "code",
   "execution_count": 13,
   "id": "bff189d4-43ce-4639-8fe4-559c3330615b",
   "metadata": {},
   "outputs": [
    {
     "name": "stdout",
     "output_type": "stream",
     "text": [
      "Document index with highest similarity: 1\n"
     ]
    }
   ],
   "source": [
    "print(f\"Document index with highest similarity: {most_similar_index}\")"
   ]
  },
  {
   "cell_type": "markdown",
   "id": "25394a9d-3128-4763-88bb-ed5cbeff036f",
   "metadata": {},
   "source": [
    "- 0\n",
    "- `1`\n",
    "- 2\n",
    "- 3\n",
    "- 4"
   ]
  },
  {
   "cell_type": "markdown",
   "id": "e3ab60a1-8964-4e16-8476-41e9d97c404c",
   "metadata": {},
   "source": [
    "## Q4. Ranking by cosine, version two\n",
    "\n",
    "Now let's calculate a new field, which is a concatenation of\n",
    "`question` and `text`:\n",
    "\n",
    "```python\n",
    "full_text = doc['question'] + ' ' + doc['text']\n",
    "``` "
   ]
  },
  {
   "cell_type": "code",
   "execution_count": 14,
   "id": "5f9f67d3-241c-4dc3-93ea-ab11764b8e04",
   "metadata": {},
   "outputs": [],
   "source": [
    "full_texts = [doc[\"question\"] + \" \" + doc[\"text\"] for doc in documents]"
   ]
  },
  {
   "cell_type": "markdown",
   "id": "4e259a41-6f4b-438e-b32a-924878fa4f9d",
   "metadata": {},
   "source": [
    "Embed this field and compute the cosine between it and the\n",
    "query vector."
   ]
  },
  {
   "cell_type": "code",
   "execution_count": 15,
   "id": "8b47f645-915c-44e4-b8b4-3d73ed2985d7",
   "metadata": {},
   "outputs": [],
   "source": [
    "full_embeddings = np.array(list(model.embed(full_texts)))\n",
    "cos_similarities_q5 = np.array(full_embeddings).dot(embedding)\n",
    "top_index = np.argmax(cos_similarities_q5)"
   ]
  },
  {
   "cell_type": "markdown",
   "id": "da051f5a-2ad4-40d0-b06b-2b31fca11aa0",
   "metadata": {},
   "source": [
    "What's the highest scoring document?"
   ]
  },
  {
   "cell_type": "code",
   "execution_count": 16,
   "id": "f90238b7-3d47-413b-bea9-e0a835246f33",
   "metadata": {},
   "outputs": [
    {
     "name": "stdout",
     "output_type": "stream",
     "text": [
      "Highest scoring document index (using question + text): 0\n"
     ]
    }
   ],
   "source": [
    "print(f\"Highest scoring document index (using question + text): {top_index}\")"
   ]
  },
  {
   "cell_type": "markdown",
   "id": "f562e94a-7c4e-4c37-a126-a5c819945ec1",
   "metadata": {},
   "source": [
    "- `0`\n",
    "- 1\n",
    "- 2\n",
    "- 3\n",
    "- 4"
   ]
  },
  {
   "cell_type": "markdown",
   "id": "352ce589-ac00-44d9-bf88-6a050b80fdfa",
   "metadata": {},
   "source": [
    "## Q5. Selecting the embedding model\n",
    "\n",
    "Now let's select a smaller embedding model.\n",
    "What's the smallest dimensionality for models in fastembed?"
   ]
  },
  {
   "cell_type": "code",
   "execution_count": 17,
   "id": "17658259-6e48-451b-bd91-ac684595e395",
   "metadata": {},
   "outputs": [],
   "source": [
    "dim = []\n",
    "for model in TextEmbedding.list_supported_models():\n",
    "    dim.append(model['dim'])"
   ]
  },
  {
   "cell_type": "code",
   "execution_count": 18,
   "id": "c69f2fc3-d5db-4d19-ad0a-02c7e7c7070c",
   "metadata": {},
   "outputs": [
    {
     "name": "stdout",
     "output_type": "stream",
     "text": [
      "The smallest embedding dimensionality among fastembed models is 384.\n"
     ]
    }
   ],
   "source": [
    "print(f\"The smallest embedding dimensionality among fastembed models is {min(dim)}.\")"
   ]
  },
  {
   "cell_type": "markdown",
   "id": "78788b12-8345-4c1d-a945-6c52f10e38bb",
   "metadata": {},
   "source": [
    "- 128\n",
    "- 256\n",
    "- `384`\n",
    "- 512"
   ]
  },
  {
   "cell_type": "markdown",
   "id": "0f63d057-a166-452f-93ee-776e37fde2b3",
   "metadata": {},
   "source": [
    "One of these models is `BAAI/bge-small-en`. Let's use it."
   ]
  },
  {
   "cell_type": "markdown",
   "id": "065d07f4-a5f0-4783-9d8c-bb36a33dbfa3",
   "metadata": {},
   "source": [
    "## Q6. Indexing with qdrant (2 points)\n",
    "\n",
    "For the last question, we will use more documents.\n",
    "\n",
    "We will select only FAQ records from our ml zoomcamp:\n",
    "\n",
    "```python\n",
    "import requests \n",
    "\n",
    "docs_url = 'https://github.com/alexeygrigorev/llm-rag-workshop/raw/main/notebooks/documents.json'\n",
    "docs_response = requests.get(docs_url)\n",
    "documents_raw = docs_response.json()\n",
    "\n",
    "\n",
    "documents = []\n",
    "\n",
    "for course in documents_raw:\n",
    "    course_name = course['course']\n",
    "    if course_name != 'machine-learning-zoomcamp':\n",
    "        continue\n",
    "\n",
    "    for doc in course['documents']:\n",
    "        doc['course'] = course_name\n",
    "        documents.append(doc)\n",
    "```"
   ]
  },
  {
   "cell_type": "code",
   "execution_count": 19,
   "id": "423649b6-93ac-4870-b114-2ccd63edfb4f",
   "metadata": {},
   "outputs": [],
   "source": [
    "import requests \n",
    "\n",
    "docs_url = 'https://github.com/alexeygrigorev/llm-rag-workshop/raw/main/notebooks/documents.json'\n",
    "docs_response = requests.get(docs_url)\n",
    "documents_raw = docs_response.json()\n",
    "\n",
    "\n",
    "documents = []\n",
    "\n",
    "for course in documents_raw:\n",
    "    course_name = course['course']\n",
    "    if course_name != 'machine-learning-zoomcamp':\n",
    "        continue\n",
    "\n",
    "    for doc in course['documents']:\n",
    "        doc['course'] = course_name\n",
    "        documents.append(doc)"
   ]
  },
  {
   "cell_type": "markdown",
   "id": "4446db02-6e3d-468b-921f-c4d3f1e527be",
   "metadata": {},
   "source": [
    "Add them to qdrant using the model form Q5."
   ]
  },
  {
   "cell_type": "code",
   "execution_count": 20,
   "id": "9a5a8bc4-4cbc-4e65-b997-9c169b725fd3",
   "metadata": {},
   "outputs": [
    {
     "data": {
      "text/plain": [
       "True"
      ]
     },
     "execution_count": 20,
     "metadata": {},
     "output_type": "execute_result"
    }
   ],
   "source": [
    "from qdrant_client import QdrantClient, models\n",
    "qd_client = QdrantClient(\"http://localhost:6333\")\n",
    "EMBEDDING_DIMENSIONALITY = 384\n",
    "model_handle = \"BAAI/bge-small-en\"\n",
    "collection_name = \"ml-zoomcamp\"\n",
    "qd_client.delete_collection(collection_name=collection_name)\n",
    "\n",
    "qd_client.create_collection(\n",
    "    collection_name=collection_name,\n",
    "    vectors_config=models.VectorParams(\n",
    "        size=EMBEDDING_DIMENSIONALITY,\n",
    "        distance=models.Distance.COSINE\n",
    "    )\n",
    ")"
   ]
  },
  {
   "cell_type": "markdown",
   "id": "7e16050a-cbb5-4f6f-989f-57e7b202c51a",
   "metadata": {},
   "source": [
    "When adding the data, use both question and answer fields:\n",
    "\n",
    "```python\n",
    "text = doc['question'] + ' ' + doc['text']\n",
    "```"
   ]
  },
  {
   "cell_type": "code",
   "execution_count": 21,
   "id": "2a0748ca-fadf-4180-b03b-957fe334a2c4",
   "metadata": {},
   "outputs": [],
   "source": [
    "points = []\n",
    "\n",
    "for i, doc in enumerate(documents):\n",
    "    text = doc['question'] + ' ' + doc['text']\n",
    "    vector = models.Document(text=text, model=model_handle)\n",
    "    point = models.PointStruct(\n",
    "        id=i,\n",
    "        vector=vector,\n",
    "        payload=doc\n",
    "    )\n",
    "    points.append(point)"
   ]
  },
  {
   "cell_type": "code",
   "execution_count": 22,
   "id": "034dee30-d40e-4edf-a057-cf7d31956f17",
   "metadata": {},
   "outputs": [
    {
     "data": {
      "text/plain": [
       "UpdateResult(operation_id=0, status=<UpdateStatus.COMPLETED: 'completed'>)"
      ]
     },
     "execution_count": 22,
     "metadata": {},
     "output_type": "execute_result"
    }
   ],
   "source": [
    "qd_client.upsert(\n",
    "    collection_name=collection_name,\n",
    "    points=points\n",
    ")"
   ]
  },
  {
   "cell_type": "code",
   "execution_count": 23,
   "id": "b01b40cd-a6de-4cac-af58-c80515df4a4f",
   "metadata": {},
   "outputs": [],
   "source": [
    "def quadrant_search(query, limit=1):\n",
    "\n",
    "    query_points = qd_client.query_points(\n",
    "        collection_name=collection_name,\n",
    "        query=models.Document( #embed the query text locally with \"jinaai/jina-embeddings-v2-small-en\"\n",
    "            text=query,\n",
    "            model=model_handle\n",
    "        ),\n",
    "        limit=limit, # top closest matches\n",
    "        with_payload=True #to get metadata in the results\n",
    "    )\n",
    "\n",
    "    return query_points\n",
    "\n",
    "result = quadrant_search(query[0]).points[0]"
   ]
  },
  {
   "cell_type": "markdown",
   "id": "36b7e110-07f6-4c3d-b960-41857aecd0f2",
   "metadata": {},
   "source": [
    "After the data is inserted, use the question from Q1 for querying the collection."
   ]
  },
  {
   "cell_type": "code",
   "execution_count": 24,
   "id": "7c74a490-7292-4522-8c4f-28f52607db8b",
   "metadata": {},
   "outputs": [],
   "source": [
    "result = quadrant_search(query[0]).points[0]"
   ]
  },
  {
   "cell_type": "code",
   "execution_count": 25,
   "id": "b18d5d95-9c51-42b5-9295-1794f444be7e",
   "metadata": {},
   "outputs": [
    {
     "data": {
      "text/plain": [
       "['I just discovered the course. Can I join now?']"
      ]
     },
     "execution_count": 25,
     "metadata": {},
     "output_type": "execute_result"
    }
   ],
   "source": [
    "query"
   ]
  },
  {
   "cell_type": "code",
   "execution_count": 26,
   "id": "71d43976-98d1-441c-b2c5-1e4c42cf1717",
   "metadata": {},
   "outputs": [
    {
     "data": {
      "text/plain": [
       "'Yes, you can. You won’t be able to submit some of the homeworks, but you can still take part in the course.\\nIn order to get a certificate, you need to submit 2 out of 3 course projects and review 3 peers’ Projects by the deadline. It means that if you join the course at the end of November and manage to work on two projects, you will still be eligible for a certificate.'"
      ]
     },
     "execution_count": 26,
     "metadata": {},
     "output_type": "execute_result"
    }
   ],
   "source": [
    "result.payload[\"text\"]"
   ]
  },
  {
   "cell_type": "code",
   "execution_count": 27,
   "id": "774b2418-d236-4a02-83e9-94721ece23ae",
   "metadata": {},
   "outputs": [],
   "source": [
    "highest_score = result.score"
   ]
  },
  {
   "cell_type": "markdown",
   "id": "10edc381-3186-4b47-8d77-df1609885844",
   "metadata": {},
   "source": [
    "What's the highest score in the results?\n",
    "(The score for the first returned record):"
   ]
  },
  {
   "cell_type": "code",
   "execution_count": 28,
   "id": "3605d2f0-ce6e-4df8-a8b9-d5c1e162de73",
   "metadata": {},
   "outputs": [
    {
     "name": "stdout",
     "output_type": "stream",
     "text": [
      "The highest score in the results is: 0.87\n"
     ]
    }
   ],
   "source": [
    "print(f\"The highest score in the results is: {round(highest_score, 3)}\")"
   ]
  },
  {
   "cell_type": "markdown",
   "id": "e68714b7-5a5d-400c-91c2-36885b5aa2ce",
   "metadata": {},
   "source": [
    "- 0.97\n",
    "- `0.87`\n",
    "- 0.77\n",
    "- 0.67"
   ]
  },
  {
   "cell_type": "code",
   "execution_count": null,
   "id": "30ad116f-1d39-4182-983d-3321bb9841ea",
   "metadata": {},
   "outputs": [],
   "source": []
  }
 ],
 "metadata": {
  "kernelspec": {
   "display_name": "Python 3 (ipykernel)",
   "language": "python",
   "name": "python3"
  },
  "language_info": {
   "codemirror_mode": {
    "name": "ipython",
    "version": 3
   },
   "file_extension": ".py",
   "mimetype": "text/x-python",
   "name": "python",
   "nbconvert_exporter": "python",
   "pygments_lexer": "ipython3",
   "version": "3.12.1"
  }
 },
 "nbformat": 4,
 "nbformat_minor": 5
}
